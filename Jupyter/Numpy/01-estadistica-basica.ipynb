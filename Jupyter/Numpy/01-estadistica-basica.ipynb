{
 "cells": [
  {
   "attachments": {},
   "cell_type": "markdown",
   "metadata": {},
   "source": [
    "<h2 style=\"color:white\"><center> Ejercicios Numpy - Estadisctica <center><h2>"
   ]
  },
  {
   "cell_type": "code",
   "execution_count": 1,
   "metadata": {},
   "outputs": [],
   "source": [
    "import numpy as np\n",
    "import random"
   ]
  },
  {
   "attachments": {},
   "cell_type": "markdown",
   "metadata": {},
   "source": [
    "<p><b># Ejercicio 1:</b> Crea un arreglo NumPy de 10 números enteros aleatorios, comprendidos entre 0-100. Debes calcular la media, la mediana, la desviación estándar, la varianza y el valor máximo y minimo del arreglo con sus respectivas posiciones.<p>"
   ]
  },
  {
   "cell_type": "code",
   "execution_count": 9,
   "metadata": {},
   "outputs": [
    {
     "name": "stdout",
     "output_type": "stream",
     "text": [
      "#### EJERCICIO - 01 ####\n",
      "\n",
      "Arreglo: [61 65 11 87 74 61 41 82 33] | Tipo: <class 'numpy.ndarray'>\n",
      "Media arit.: 57.22222222222222\n",
      "Mediana: 61.0\n",
      "Desv. estandar: 23.232055334423777\n",
      "Varianza: 539.7283950617283\n",
      "N° mayor: 87 | Posicion: 3\n",
      "N° menor: 11 | Posicion: 2\n"
     ]
    }
   ],
   "source": [
    "random_list = np.random.randint(0,101,size=9) # Crea un array de 10 numeros enteros entre 0 y 100\n",
    "\n",
    "mean = np.mean(random_list)     # Calcula la media aritmetica del arreglo \"random_list\"\n",
    "median = np.median(random_list) # Calcula la mediana del arreglo \"random_list\"\n",
    "std = np.std(random_list)       # Calcula la desviacion estandar de arreglo \"random_list\"\n",
    "var = np.var(random_list)       # Calcula la varianza del arreglo \"random_list\"\n",
    "\n",
    "value_max = np.max(random_list)        # Devuelve el numero de mayor valor del arreglo \"random_list\"\n",
    "pos_value_max = np.argmax(random_list) # Devuelve la posicion del valor maximo del arreglo \"random_list\"\n",
    "value_min = np.min(random_list)        # Devuelve el numero de menor valor del arreglo \"random_list\"\n",
    "pos_value_min = np.argmin(random_list) # Devuelve la posicion del valor minimo del arreglo \"random_list\"\n",
    "\n",
    "print(\"#### EJERCICIO - 01 ####\\n\")\n",
    "print(f'Arreglo: {random_list} | Tipo: {type(random_list)}')\n",
    "print(f'Media arit.: {mean}')\n",
    "print(f'Mediana: {median}')\n",
    "print(f'Desv. estandar: {std}')\n",
    "print(f'Varianza: {var}')\n",
    "print(f'N° mayor: {value_max} | Posicion: {pos_value_max}')\n",
    "print(f'N° menor: {value_min} | Posicion: {pos_value_min}')"
   ]
  },
  {
   "attachments": {},
   "cell_type": "markdown",
   "metadata": {},
   "source": [
    "<p><b># Ejercicio 2:</b> Crea dos matrices de 3x3 NumPy. Debes calcular la suma, resta, multiplicacion y division de ambas matrices y mostrar el resultado.<p>"
   ]
  },
  {
   "cell_type": "code",
   "execution_count": 18,
   "metadata": {},
   "outputs": [
    {
     "name": "stdout",
     "output_type": "stream",
     "text": [
      "#### EJERCICIO - 02 ####\n",
      "\n",
      "Matriz 1\n",
      "[[1 2 3]\n",
      " [4 5 6]\n",
      " [7 8 9]]\n",
      "\n",
      "Matriz 2\n",
      "[[10 20 30]\n",
      " [40 50 60]\n",
      " [70 80 90]]\n",
      "\n",
      "Suma: [[11 22 33]\n",
      " [44 55 66]\n",
      " [77 88 99]]\n",
      "\n",
      "Resta: [[ -9 -18 -27]\n",
      " [-36 -45 -54]\n",
      " [-63 -72 -81]]\n",
      "\n",
      "Producto: [[ 10  40  90]\n",
      " [160 250 360]\n",
      " [490 640 810]]\n",
      "\n",
      "Cociente: [[0.1 0.1 0.1]\n",
      " [0.1 0.1 0.1]\n",
      " [0.1 0.1 0.1]]\n"
     ]
    }
   ],
   "source": [
    "matriz_1 = np.array( [[1,2,3], [4,5,6], [7,8,9]] )          # Crea una matriz 3x3\n",
    "matriz_2 = np.array( [[10,20,30], [40,50,60], [70,80,90]] ) # Crea una matriz 3x3\n",
    "\n",
    "suma = matriz_1 + matriz_2   # Suma de 2 matrices\n",
    "resta =  matriz_1 - matriz_2 # Resta de 2 matrices\n",
    "multi =  matriz_1 * matriz_2 # Producto de 2 matrices\n",
    "div =  matriz_1 / matriz_2   # Cociente de 2 matrices\n",
    "\n",
    "print('#### EJERCICIO - 02 ####\\n')\n",
    "print('Matriz 1')\n",
    "print(matriz_1)\n",
    "print('\\nMatriz 2')\n",
    "print(matriz_2)\n",
    "\n",
    "print(f'\\nSuma: {suma}')\n",
    "print(f'\\nResta: {resta}')\n",
    "print(f'\\nProducto: {multi}')\n",
    "print(f'\\nCociente: {div}')\n",
    "\n"
   ]
  },
  {
   "attachments": {},
   "cell_type": "markdown",
   "metadata": {},
   "source": [
    "<p><b># Ejercicio 3:</b> Crea una matriz de 5x5 llena de unos. Luego, crea una copia y cambia el valor de los elementos de la copia. En los bordes cero y en el centro un 5<p>"
   ]
  },
  {
   "cell_type": "code",
   "execution_count": 41,
   "metadata": {},
   "outputs": [
    {
     "name": "stdout",
     "output_type": "stream",
     "text": [
      "#### EJERCICIO - 03 ####\n",
      "\n",
      "Matriz original\n",
      "[[1. 1. 1. 1. 1.]\n",
      " [1. 1. 1. 1. 1.]\n",
      " [1. 1. 1. 1. 1.]\n",
      " [1. 1. 1. 1. 1.]\n",
      " [1. 1. 1. 1. 1.]]\n",
      "\n",
      "Matriz duplicado\n",
      "[[0. 0. 0. 0. 0.]\n",
      " [0. 1. 1. 1. 0.]\n",
      " [0. 1. 5. 1. 0.]\n",
      " [0. 1. 1. 1. 0.]\n",
      " [0. 0. 0. 0. 0.]]\n"
     ]
    }
   ],
   "source": [
    "matriz = np.ones((5,5)) # Crea una matriz 5x5 rellena de unos\n",
    "matriz_copy = matriz.copy()    # Realiza una copia de la matriz\n",
    "\n",
    "matriz_copy[0, :] = 0  # Transforma la primera columna en ceros\n",
    "matriz_copy[-1, :] = 0 # Transforma la ultima columna en ceros\n",
    "matriz_copy[:, 0] = 0  # Transforma la primera fila en ceros\n",
    "matriz_copy[:, -1] = 0 # Transforma la ultima fila en ceros\n",
    "matriz_copy[2,2] = 5   # Transforma el numero central en 5\n",
    "\n",
    "print('#### EJERCICIO - 03 ####\\n')\n",
    "print('Matriz original')\n",
    "print(matriz)\n",
    "\n",
    "print('\\nMatriz duplicado')\n",
    "print(matriz_copy)"
   ]
  },
  {
   "attachments": {},
   "cell_type": "markdown",
   "metadata": {},
   "source": [
    "<p><b># Ejercicio 4:</b> Crea una matriz de 4x4 con cualquier valor que desees. Luego, cambia la forma de la matriz a 2x8 y aplana la matriz a 1D.<p>"
   ]
  },
  {
   "cell_type": "code",
   "execution_count": 44,
   "metadata": {},
   "outputs": [
    {
     "name": "stdout",
     "output_type": "stream",
     "text": [
      "#### EJERCICIO - 04 ####\n",
      "\n",
      "Matriz:\n",
      "[[ 1  2  3  4]\n",
      " [ 5  6  7  8]\n",
      " [ 9 10 11 12]\n",
      " [13 14 15 16]]\n",
      "\n",
      "Matriz 2x8:\n",
      "[[ 1  2  3  4  5  6  7  8]\n",
      " [ 9 10 11 12 13 14 15 16]]\n",
      "\n",
      "Matriz 1D:\n",
      "[ 1  2  3  4  5  6  7  8  9 10 11 12 13 14 15 16]\n"
     ]
    }
   ],
   "source": [
    "matriz = np.array( [[1,2,3,4],[5,6,7,8],[9,10,11,12],[13,14,15,16]] )\n",
    "\n",
    "matriz_2x8 = matriz.reshape(2,8) # Cambia la forma de la matriz a 2x8\n",
    "matriz_1d = matriz.flatten() # Aplana la matriz a una dimension\n",
    "\n",
    "print('#### EJERCICIO - 04 ####\\n')\n",
    "print(f'Matriz:\\n{matriz}')\n",
    "print(f'\\nMatriz 2x8:\\n{matriz_2x8}')\n",
    "print(f'\\nMatriz 1D:\\n{matriz_1d}')\n"
   ]
  },
  {
   "attachments": {},
   "cell_type": "markdown",
   "metadata": {},
   "source": [
    "<p><b># Ejercicio 5:</b> Genera una secuencia de números entre 0 y 1 con un paso de 0.01. Luego, calcula e imprime la suma de todos los números en la secuencia.<p>"
   ]
  },
  {
   "cell_type": "code",
   "execution_count": 48,
   "metadata": {},
   "outputs": [
    {
     "name": "stdout",
     "output_type": "stream",
     "text": [
      "#### EJERCICIO - 05 ####\n",
      "\n",
      "Secuencia:\n",
      "[0.   0.01 0.02 0.03 0.04 0.05 0.06 0.07 0.08 0.09 0.1  0.11 0.12 0.13\n",
      " 0.14 0.15 0.16 0.17 0.18 0.19 0.2  0.21 0.22 0.23 0.24 0.25 0.26 0.27\n",
      " 0.28 0.29 0.3  0.31 0.32 0.33 0.34 0.35 0.36 0.37 0.38 0.39 0.4  0.41\n",
      " 0.42 0.43 0.44 0.45 0.46 0.47 0.48 0.49 0.5  0.51 0.52 0.53 0.54 0.55\n",
      " 0.56 0.57 0.58 0.59 0.6  0.61 0.62 0.63 0.64 0.65 0.66 0.67 0.68 0.69\n",
      " 0.7  0.71 0.72 0.73 0.74 0.75 0.76 0.77 0.78 0.79 0.8  0.81 0.82 0.83\n",
      " 0.84 0.85 0.86 0.87 0.88 0.89 0.9  0.91 0.92 0.93 0.94 0.95 0.96 0.97\n",
      " 0.98 0.99]\n",
      "Sumatoria: 49.49999999999999\n"
     ]
    }
   ],
   "source": [
    "num_sec = np.arange(0, 1, 0.01)\n",
    "num_sec_sum = np.sum(num_sec)\n",
    "\n",
    "print('#### EJERCICIO - 05 ####\\n')\n",
    "print(f'Secuencia:\\n{num_sec}')\n",
    "print(f'Sumatoria: {num_sec_sum}')"
   ]
  }
 ],
 "metadata": {
  "kernelspec": {
   "display_name": "Python 3",
   "language": "python",
   "name": "python3"
  },
  "language_info": {
   "codemirror_mode": {
    "name": "ipython",
    "version": 3
   },
   "file_extension": ".py",
   "mimetype": "text/x-python",
   "name": "python",
   "nbconvert_exporter": "python",
   "pygments_lexer": "ipython3",
   "version": "3.11.2"
  },
  "orig_nbformat": 4
 },
 "nbformat": 4,
 "nbformat_minor": 2
}
