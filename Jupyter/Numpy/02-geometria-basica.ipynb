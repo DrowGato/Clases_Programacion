{
 "cells": [
  {
   "attachments": {},
   "cell_type": "markdown",
   "metadata": {},
   "source": [
    "<h2 style=\"color:white\"><center> Ejercicios Numpy - Estadisctica <center><h2>"
   ]
  },
  {
   "cell_type": "code",
   "execution_count": 2,
   "metadata": {},
   "outputs": [],
   "source": [
    "import numpy as np"
   ]
  },
  {
   "attachments": {},
   "cell_type": "markdown",
   "metadata": {},
   "source": [
    "<p><b># Ejercicio 1:</b> Segun la figura dada, encuentra el valor de a.<p>\n",
    "\n",
    "<center><img src=\"assets/images/ejercicio-1.png\"><center>"
   ]
  },
  {
   "cell_type": "code",
   "execution_count": 5,
   "metadata": {},
   "outputs": [
    {
     "name": "stdout",
     "output_type": "stream",
     "text": [
      "El valor de a: 17.03\n"
     ]
    }
   ],
   "source": [
    "ancho = 4\n",
    "largo = 7\n",
    "alto = 15\n",
    "\n",
    "diag_1 = np.sqrt(largo**2 + ancho**2)\n",
    "a = np.sqrt(diag_1**2 + alto**2)\n",
    "\n",
    "print(f'El valor de a: {round(a, 2)}')"
   ]
  },
  {
   "attachments": {},
   "cell_type": "markdown",
   "metadata": {},
   "source": [
    "<p><b># Ejercicio 2:</b> Segun la figura dada, calcular el valor de todos los lados y angulos del triangulo. Ademas de su area y perimetro. Mostrar el resultado de los angulos en notacion DMS. Redondear a 2 decimiales los resultados solo al mostrar en pantalla.<p>\n",
    "\n",
    "<center><img src=\"assets/images/ejercicio-2.gif\"><center>"
   ]
  },
  {
   "cell_type": "code",
   "execution_count": 3,
   "metadata": {},
   "outputs": [
    {
     "name": "stdout",
     "output_type": "stream",
     "text": [
      "#### EJERCICIO - 01 ####\n",
      "\n",
      "Lados:\n",
      "\n",
      "Lado a: 7.5 m\n",
      "Lado b: 11.52 m\n",
      "Lado c: 13.75 m\n",
      "Area: 79.23 m^2\n",
      "Perimetro: 32.77 m\n",
      "\n",
      "Angulos:\n",
      "\n",
      "Angulo A: 33° 3' 20.63''\n",
      "Angulo B: 56° 56' 39.37''\n",
      "Angulo C: 90° 0' 0''\n"
     ]
    }
   ],
   "source": [
    "# Convertidor de radianes a grados\n",
    "def rad_gra_converter(rad):\n",
    "    return rad * (180/pi)\n",
    "\n",
    "# Convertidor angulos decimales a DMS\n",
    "def dms_converter(gra_dec):\n",
    "    gra = np.floor(gra_dec)\n",
    "    min_dec = (gra_dec - gra) * 60\n",
    "    min = np.floor(min_dec)\n",
    "    seg = (min_dec - min) * 60\n",
    "\n",
    "    return gra, min, seg\n",
    "\n",
    "pi = np.pi     # Definiendo pi\n",
    "\n",
    "# ======= Lados ======= #\n",
    "lado_a = 7.5   # Cateto adyacente\n",
    "lado_c = 13.75 # Hipotenusa\n",
    "lado_b = np.sqrt(lado_c**2 - lado_a**2)\n",
    "\n",
    "perim = lado_a + lado_b + lado_c\n",
    "area = (lado_b * lado_c) / 2\n",
    "\n",
    "# ======= Angulo B ======= #\n",
    "cos_B = lado_a / lado_c   # Calculando el coseno del angulo\n",
    "ang_B = np.arccos(cos_B)  # Calculando el angulo con el arcoseno (Radianes)\n",
    "\n",
    "ang_B_grad = rad_gra_converter(ang_B) # Transformando angulo de Radianes a Grados.\n",
    "ang_B_dms = dms_converter(ang_B_grad) # Convirtiendo a DMS\n",
    "\n",
    "# ======= Angulo A ======= #\n",
    "ang_A_grad = 90 - ang_B_grad\n",
    "ang_A_dms = dms_converter(ang_A_grad)\n",
    "\n",
    "print('#### EJERCICIO - 01 ####\\n')\n",
    "\n",
    "print('Lados:\\n')\n",
    "print(f'Lado a: {lado_a} m\\nLado b: {round(lado_b, 2)} m\\nLado c: {lado_c} m')\n",
    "print(f'Area: {round(area, 2)} m^2\\nPerimetro: {round(perim, 2)} m')\n",
    "\n",
    "print('\\nAngulos:\\n')\n",
    "print(f\"Angulo A: {int(ang_A_dms[0])}° {int(ang_A_dms[1])}' {round(ang_A_dms[2], 2)}''\")\n",
    "print(f\"Angulo B: {int(ang_B_dms[0])}° {int(ang_B_dms[1])}' {round(ang_B_dms[2], 2)}''\")\n",
    "print(f\"Angulo C: 90° 0' 0''\")\n"
   ]
  }
 ],
 "metadata": {
  "kernelspec": {
   "display_name": "Python 3",
   "language": "python",
   "name": "python3"
  },
  "language_info": {
   "codemirror_mode": {
    "name": "ipython",
    "version": 3
   },
   "file_extension": ".py",
   "mimetype": "text/x-python",
   "name": "python",
   "nbconvert_exporter": "python",
   "pygments_lexer": "ipython3",
   "version": "3.11.2"
  },
  "orig_nbformat": 4
 },
 "nbformat": 4,
 "nbformat_minor": 2
}
